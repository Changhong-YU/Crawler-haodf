{
 "cells": [
  {
   "cell_type": "code",
   "execution_count": 1,
   "id": "e553cb27-6806-4fb5-84a8-91a50b71c035",
   "metadata": {},
   "outputs": [],
   "source": [
    "import os\n",
    "import pandas as pd\n",
    "import numpy as np"
   ]
  },
  {
   "cell_type": "code",
   "execution_count": 2,
   "id": "e3c20fec-faa0-44e5-987e-5cd3a87b3a08",
   "metadata": {},
   "outputs": [],
   "source": [
    "datapath = '../Data/webpage/'\n",
    "outpath = '../result/'"
   ]
  },
  {
   "cell_type": "code",
   "execution_count": 3,
   "id": "470f56a9-7970-49cd-af05-4c6d35124d5e",
   "metadata": {},
   "outputs": [
    {
     "name": "stdout",
     "output_type": "stream",
     "text": [
      "742\n"
     ]
    }
   ],
   "source": [
    "# 获取目录下所有文件名\n",
    "all_files = os.listdir(datapath)\n",
    "\n",
    "# 选择包含 \"dialogue\" 的 Excel 文件\n",
    "info_fls = [file for file in all_files if \"info\" in file.lower() and file.endswith('.xlsx')]\n",
    "\n",
    "print(len(info_fls))\n"
   ]
  },
  {
   "cell_type": "code",
   "execution_count": 4,
   "id": "0c2d034b-d9b3-4f35-8ce2-eacac9307354",
   "metadata": {},
   "outputs": [
    {
     "name": "stdout",
     "output_type": "stream",
     "text": [
      "741\n"
     ]
    }
   ],
   "source": [
    "info_fls = [s for s in info_fls if s[0].isdigit()]\n",
    "print(len(info_fls))"
   ]
  },
  {
   "cell_type": "code",
   "execution_count": 5,
   "id": "1ee00926-dea0-4e8d-b39d-1f9f0112807c",
   "metadata": {},
   "outputs": [],
   "source": [
    "merged_dict = {} \n",
    "for dia_fl in info_fls:\n",
    "    num = dia_fl.split(\"_\")[0]\n",
    "    fl_name = num + \"_info.pkl\"\n",
    "    df = pd.read_pickle(os.path.join(datapath, fl_name))\n",
    "    \n",
    "    # 选择 category 列为 'doctor_info' 的数据\n",
    "    doctor_info_data = df[df['category'] == 'doctor_info']\n",
    "\n",
    "    # 以 attribute 列的内容为键，value 列的内容为值生成字典\n",
    "    doctor_info_dict = dict(zip(doctor_info_data['attribute'], doctor_info_data['value']))\n",
    "\n",
    "\n",
    "    # 映射旧键和新键的字典\n",
    "    key_mapping = {\n",
    "        'info-text-name': '医生名称',\n",
    "        'info-text-grade': '职称',\n",
    "        'hospital': '医院',\n",
    "        'faculty': '科室',\n",
    "        'url': '链接',\n",
    "        'doc_id': '医生编号'\n",
    "    }\n",
    "\n",
    "    # 重命名字典的键\n",
    "    doctor_info_dict = {key_mapping.get(k, k): v for k, v in doctor_info_dict.items()}\n",
    "\n",
    "    #print(doctor_info_dict)\n",
    "    \n",
    "    # 获取医生编号作为键，将原字典作为值合并到大字典中\n",
    "    merged_dict[doctor_info_dict.get('医生编号')] = doctor_info_dict"
   ]
  },
  {
   "cell_type": "code",
   "execution_count": 6,
   "id": "f5ef1eed-6de2-4b56-b82a-6f46cc3ae521",
   "metadata": {},
   "outputs": [
    {
     "data": {
      "text/plain": [
       "399"
      ]
     },
     "execution_count": 6,
     "metadata": {},
     "output_type": "execute_result"
    }
   ],
   "source": [
    "len(merged_dict)"
   ]
  },
  {
   "cell_type": "code",
   "execution_count": 7,
   "id": "dd008c6f-d1a3-4237-b50e-fac34c6adc10",
   "metadata": {},
   "outputs": [],
   "source": [
    "df = pd.DataFrame.from_dict(merged_dict, orient='index')"
   ]
  },
  {
   "cell_type": "code",
   "execution_count": 8,
   "id": "6cb7b57b-3e0f-4d13-9596-19fd0c68767b",
   "metadata": {},
   "outputs": [
    {
     "name": "stdout",
     "output_type": "stream",
     "text": [
      "           医生名称     职称            医院      科室 患者投票  在线问诊量  \\\n",
      "2212161794  孙文青   主任医师  河南科技大学第二附...     眩晕科   41    501   \n",
      "180183      李俭杰  副主任医师      北京大学肿瘤医院  胸部肿...  561   4798   \n",
      "6964351841  肖晶晶   主治医师  复旦大学附属妇产科...      妇科   65   3835   \n",
      "6964381986   罗寿   主治医师  中国医学科学院肿瘤...  胃肠外...    1    620   \n",
      "169119       郑波   主任医师      北京大学第一医院  抗感染...  315  11634   \n",
      "...         ...    ...           ...     ...  ...    ...   \n",
      "60713       张子平   主任医师  福建医科大学附属第...     皮肤科  792  24500   \n",
      "558057537   王小敏   主治医师  河北医科大学第一医...  精神卫...  231   4022   \n",
      "296007       张勇   主任医师       天津市安定医院  心境障...  282  10748   \n",
      "9032282827  林元为   主治医师  宁波大学附属第一医...  医学影...    2    434   \n",
      "6964537367  黄正君   主治医师  苏州大学附属第二医...     呼吸科   24  23176   \n",
      "\n",
      "                                                      链接        医生编号  \n",
      "2212161794  https://www.haodf.com/doctor/2212161794.html  2212161794  \n",
      "180183          https://www.haodf.com/doctor/180183.html      180183  \n",
      "6964351841  https://www.haodf.com/doctor/6964351841.html  6964351841  \n",
      "6964381986  https://www.haodf.com/doctor/6964381986.html  6964381986  \n",
      "169119          https://www.haodf.com/doctor/169119.html      169119  \n",
      "...                                                  ...         ...  \n",
      "60713            https://www.haodf.com/doctor/60713.html       60713  \n",
      "558057537    https://www.haodf.com/doctor/558057537.html   558057537  \n",
      "296007          https://www.haodf.com/doctor/296007.html      296007  \n",
      "9032282827  https://www.haodf.com/doctor/9032282827.html  9032282827  \n",
      "6964537367  https://www.haodf.com/doctor/6964537367.html  6964537367  \n",
      "\n",
      "[399 rows x 8 columns]\n"
     ]
    }
   ],
   "source": [
    "print(df)"
   ]
  },
  {
   "cell_type": "code",
   "execution_count": 11,
   "id": "aff0635a-69ee-475e-8e05-1a3949bffda1",
   "metadata": {},
   "outputs": [],
   "source": [
    "def save_dataframe(df, save_name, suffix='', outpath=''):\n",
    "    try:\n",
    "        # Reset the index\n",
    "        #df_reset = df.reset_index(drop=True)\n",
    "        df_reset = df\n",
    "\n",
    "        # Save as pickle (.pkl)\n",
    "        pickle_file = f\"{outpath}{save_name}{suffix}.pkl\"\n",
    "        df_reset.to_pickle(pickle_file)\n",
    "\n",
    "        # Save as Excel (.xlsx)\n",
    "        excel_file = f\"{outpath}{save_name}{suffix}.xlsx\"\n",
    "        df_reset.to_excel(excel_file, index=False)\n",
    "\n",
    "        # Display a message\n",
    "        print(f\"DataFrame saved as {pickle_file} (pickle) and {excel_file} (Excel).\")\n",
    "    \n",
    "    except Exception as e:\n",
    "        print(f\"An error occurred: {str(e)}\")"
   ]
  },
  {
   "cell_type": "code",
   "execution_count": 12,
   "id": "cf2ac7e9-9147-4613-ab6a-c91961a1c1ec",
   "metadata": {},
   "outputs": [
    {
     "name": "stdout",
     "output_type": "stream",
     "text": [
      "DataFrame saved as ../result/doc_list.pkl (pickle) and ../result/doc_list.xlsx (Excel).\n"
     ]
    }
   ],
   "source": [
    "save_dataframe(df, \"doc_list\", suffix='', outpath=outpath)"
   ]
  },
  {
   "cell_type": "code",
   "execution_count": null,
   "id": "a83556f0-a357-4325-85a1-bdd06aabfe5c",
   "metadata": {},
   "outputs": [],
   "source": []
  }
 ],
 "metadata": {
  "kernelspec": {
   "display_name": "Python 3 (ipykernel)",
   "language": "python",
   "name": "python3"
  },
  "language_info": {
   "codemirror_mode": {
    "name": "ipython",
    "version": 3
   },
   "file_extension": ".py",
   "mimetype": "text/x-python",
   "name": "python",
   "nbconvert_exporter": "python",
   "pygments_lexer": "ipython3",
   "version": "3.9.7"
  }
 },
 "nbformat": 4,
 "nbformat_minor": 5
}
